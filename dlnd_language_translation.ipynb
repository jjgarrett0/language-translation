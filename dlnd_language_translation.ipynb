{
 "cells": [
  {
   "cell_type": "markdown",
   "metadata": {
    "collapsed": true
   },
   "source": [
    "# Language Translation\n",
    "In this project, you’re going to take a peek into the realm of neural network machine translation.  You’ll be training a sequence to sequence model on a dataset of English and French sentences that can translate new sentences from English to French.\n",
    "## Get the Data\n",
    "Since translating the whole language of English to French will take lots of time to train, we have provided you with a small portion of the English corpus."
   ]
  },
  {
   "cell_type": "code",
   "execution_count": 4,
   "metadata": {
    "collapsed": true
   },
   "outputs": [],
   "source": [
    "\"\"\"\n",
    "DON'T MODIFY ANYTHING IN THIS CELL\n",
    "\"\"\"\n",
    "import helper\n",
    "import problem_unittests as tests\n",
    "\n",
    "source_path = 'data/small_vocab_en'\n",
    "target_path = 'data/small_vocab_fr'\n",
    "source_text = helper.load_data(source_path)\n",
    "target_text = helper.load_data(target_path)"
   ]
  },
  {
   "cell_type": "markdown",
   "metadata": {},
   "source": [
    "## Explore the Data\n",
    "Play around with view_sentence_range to view different parts of the data."
   ]
  },
  {
   "cell_type": "code",
   "execution_count": 2,
   "metadata": {},
   "outputs": [
    {
     "name": "stdout",
     "output_type": "stream",
     "text": [
      "Dataset Stats\n",
      "Roughly the number of unique words: 227\n",
      "Number of sentences: 137861\n",
      "Average number of words in a sentence: 13.225277634719028\n",
      "\n",
      "English sentences 0 to 10:\n",
      "new jersey is sometimes quiet during autumn , and it is snowy in april .\n",
      "the united states is usually chilly during july , and it is usually freezing in november .\n",
      "california is usually quiet during march , and it is usually hot in june .\n",
      "the united states is sometimes mild during june , and it is cold in september .\n",
      "your least liked fruit is the grape , but my least liked is the apple .\n",
      "his favorite fruit is the orange , but my favorite is the grape .\n",
      "paris is relaxing during december , but it is usually chilly in july .\n",
      "new jersey is busy during spring , and it is never hot in march .\n",
      "our least liked fruit is the lemon , but my least liked is the grape .\n",
      "the united states is sometimes busy during january , and it is sometimes warm in november .\n",
      "\n",
      "French sentences 0 to 10:\n",
      "new jersey est parfois calme pendant l' automne , et il est neigeux en avril .\n",
      "les états-unis est généralement froid en juillet , et il gèle habituellement en novembre .\n",
      "california est généralement calme en mars , et il est généralement chaud en juin .\n",
      "les états-unis est parfois légère en juin , et il fait froid en septembre .\n",
      "votre moins aimé fruit est le raisin , mais mon moins aimé est la pomme .\n",
      "son fruit préféré est l'orange , mais mon préféré est le raisin .\n",
      "paris est relaxant en décembre , mais il est généralement froid en juillet .\n",
      "new jersey est occupé au printemps , et il est jamais chaude en mars .\n",
      "notre fruit est moins aimé le citron , mais mon moins aimé est le raisin .\n",
      "les états-unis est parfois occupé en janvier , et il est parfois chaud en novembre .\n"
     ]
    }
   ],
   "source": [
    "view_sentence_range = (0, 10)\n",
    "\n",
    "\"\"\"\n",
    "DON'T MODIFY ANYTHING IN THIS CELL\n",
    "\"\"\"\n",
    "import numpy as np\n",
    "\n",
    "print('Dataset Stats')\n",
    "print('Roughly the number of unique words: {}'.format(len({word: None for word in source_text.split()})))\n",
    "\n",
    "sentences = source_text.split('\\n')\n",
    "word_counts = [len(sentence.split()) for sentence in sentences]\n",
    "print('Number of sentences: {}'.format(len(sentences)))\n",
    "print('Average number of words in a sentence: {}'.format(np.average(word_counts)))\n",
    "\n",
    "print()\n",
    "print('English sentences {} to {}:'.format(*view_sentence_range))\n",
    "print('\\n'.join(source_text.split('\\n')[view_sentence_range[0]:view_sentence_range[1]]))\n",
    "print()\n",
    "print('French sentences {} to {}:'.format(*view_sentence_range))\n",
    "print('\\n'.join(target_text.split('\\n')[view_sentence_range[0]:view_sentence_range[1]]))"
   ]
  },
  {
   "cell_type": "markdown",
   "metadata": {},
   "source": [
    "## Implement Preprocessing Function\n",
    "### Text to Word Ids\n",
    "As you did with other RNNs, you must turn the text into a number so the computer can understand it. In the function `text_to_ids()`, you'll turn `source_text` and `target_text` from words to ids.  However, you need to add the `<EOS>` word id at the end of `target_text`.  This will help the neural network predict when the sentence should end.\n",
    "\n",
    "You can get the `<EOS>` word id by doing:\n",
    "```python\n",
    "target_vocab_to_int['<EOS>']\n",
    "```\n",
    "You can get other word ids using `source_vocab_to_int` and `target_vocab_to_int`."
   ]
  },
  {
   "cell_type": "code",
   "execution_count": 7,
   "metadata": {},
   "outputs": [
    {
     "name": "stdout",
     "output_type": "stream",
     "text": [
      "Tests Passed\n"
     ]
    }
   ],
   "source": [
    "def text_to_ids(source_text, target_text, source_vocab_to_int, target_vocab_to_int):\n",
    "    \"\"\"\n",
    "    Convert source and target text to proper word ids\n",
    "    :param source_text: String that contains all the source text.\n",
    "    :param target_text: String that contains all the target text.\n",
    "    :param source_vocab_to_int: Dictionary to go from the source words to an id\n",
    "    :param target_vocab_to_int: Dictionary to go from the target words to an id\n",
    "    :return: A tuple of lists (source_id_text, target_id_text)\n",
    "    \"\"\"\n",
    "    # TODO: Implement Function\n",
    "    #For each word in a sentence of source text lookup the dic key(word) and return the int value.\n",
    "    #If the int value is missing assign the value for that word to <UNK>.\n",
    "    source_id_text = [[source_vocab_to_int.get(word, source_vocab_to_int['<UNK>']) for word in line.split(' ')] for line in source_text.split('\\n')]\n",
    "    \n",
    "    #Do the same as above for target words but also account of <EOS>\n",
    "    target_id_text = [[target_vocab_to_int.get(word, target_vocab_to_int['<UNK>']) for word in line.split(' ')] + [target_vocab_to_int['<EOS>']] for line in target_text.split('\\n')]\n",
    "    \n",
    "    return source_id_text, target_id_text\n",
    "\n",
    "\"\"\"\n",
    "DON'T MODIFY ANYTHING IN THIS CELL THAT IS BELOW THIS LINE\n",
    "\"\"\"\n",
    "tests.test_text_to_ids(text_to_ids)"
   ]
  },
  {
   "cell_type": "markdown",
   "metadata": {},
   "source": [
    "### Preprocess all the data and save it\n",
    "Running the code cell below will preprocess all the data and save it to file."
   ]
  },
  {
   "cell_type": "code",
   "execution_count": 8,
   "metadata": {
    "collapsed": true
   },
   "outputs": [],
   "source": [
    "\"\"\"\n",
    "DON'T MODIFY ANYTHING IN THIS CELL\n",
    "\"\"\"\n",
    "helper.preprocess_and_save_data(source_path, target_path, text_to_ids)"
   ]
  },
  {
   "cell_type": "markdown",
   "metadata": {},
   "source": [
    "# Check Point\n",
    "This is your first checkpoint. If you ever decide to come back to this notebook or have to restart the notebook, you can start from here. The preprocessed data has been saved to disk."
   ]
  },
  {
   "cell_type": "code",
   "execution_count": 5,
   "metadata": {
    "collapsed": true
   },
   "outputs": [],
   "source": [
    "\"\"\"\n",
    "DON'T MODIFY ANYTHING IN THIS CELL\n",
    "\"\"\"\n",
    "import numpy as np\n",
    "import helper\n",
    "import problem_unittests as tests\n",
    "\n",
    "(source_int_text, target_int_text), (source_vocab_to_int, target_vocab_to_int), _ = helper.load_preprocess()"
   ]
  },
  {
   "cell_type": "markdown",
   "metadata": {},
   "source": [
    "### Check the Version of TensorFlow and Access to GPU\n",
    "This will check to make sure you have the correct version of TensorFlow and access to a GPU"
   ]
  },
  {
   "cell_type": "code",
   "execution_count": 6,
   "metadata": {},
   "outputs": [
    {
     "name": "stdout",
     "output_type": "stream",
     "text": [
      "TensorFlow Version: 1.1.0\n",
      "Default GPU Device: /gpu:0\n"
     ]
    }
   ],
   "source": [
    "\"\"\"\n",
    "DON'T MODIFY ANYTHING IN THIS CELL\n",
    "\"\"\"\n",
    "from distutils.version import LooseVersion\n",
    "import warnings\n",
    "import tensorflow as tf\n",
    "from tensorflow.python.layers.core import Dense\n",
    "\n",
    "# Check TensorFlow Version\n",
    "assert LooseVersion(tf.__version__) >= LooseVersion('1.1'), 'Please use TensorFlow version 1.1 or newer'\n",
    "print('TensorFlow Version: {}'.format(tf.__version__))\n",
    "\n",
    "# Check for a GPU\n",
    "if not tf.test.gpu_device_name():\n",
    "    warnings.warn('No GPU found. Please use a GPU to train your neural network.')\n",
    "else:\n",
    "    print('Default GPU Device: {}'.format(tf.test.gpu_device_name()))"
   ]
  },
  {
   "cell_type": "markdown",
   "metadata": {},
   "source": [
    "## Build the Neural Network\n",
    "You'll build the components necessary to build a Sequence-to-Sequence model by implementing the following functions below:\n",
    "- `model_inputs`\n",
    "- `process_decoder_input`\n",
    "- `encoding_layer`\n",
    "- `decoding_layer_train`\n",
    "- `decoding_layer_infer`\n",
    "- `decoding_layer`\n",
    "- `seq2seq_model`\n",
    "\n",
    "### Input\n",
    "Implement the `model_inputs()` function to create TF Placeholders for the Neural Network. It should create the following placeholders:\n",
    "\n",
    "- Input text placeholder named \"input\" using the TF Placeholder name parameter with rank 2.\n",
    "- Targets placeholder with rank 2.\n",
    "- Learning rate placeholder with rank 0.\n",
    "- Keep probability placeholder named \"keep_prob\" using the TF Placeholder name parameter with rank 0.\n",
    "- Target sequence length placeholder named \"target_sequence_length\" with rank 1\n",
    "- Max target sequence length tensor named \"max_target_len\" getting its value from applying tf.reduce_max on the target_sequence_length placeholder. Rank 0.\n",
    "- Source sequence length placeholder named \"source_sequence_length\" with rank 1\n",
    "\n",
    "Return the placeholders in the following the tuple (input, targets, learning rate, keep probability, target sequence length, max target sequence length, source sequence length)"
   ]
  },
  {
   "cell_type": "code",
   "execution_count": 7,
   "metadata": {},
   "outputs": [
    {
     "name": "stdout",
     "output_type": "stream",
     "text": [
      "Tests Passed\n"
     ]
    }
   ],
   "source": [
    "def model_inputs():\n",
    "    \"\"\"\n",
    "    Create TF Placeholders for input, targets, learning rate, and lengths of source and target sequences.\n",
    "    :return: Tuple (input, targets, learning rate, keep probability, target sequence length,\n",
    "    max target sequence length, source sequence length)\n",
    "    \"\"\"\n",
    "    # TODO: Implement Function\n",
    "    inputs = tf.placeholder(tf.int32, [None, None], name='input')\n",
    "    targets = tf.placeholder(tf.int32, [None, None], name='targets')\n",
    "    learning_rate = tf.placeholder(tf.float32, name='learning_rate')\n",
    "    keep_prob = tf.placeholder(tf.float32, name='keep_prob')\n",
    "    source_sequence_length = tf.placeholder(tf.int32, [None,], name='source_sequence_length')\n",
    "    target_sequence_length = tf.placeholder(tf.int32, [None,], name='target_sequence_length')\n",
    "    max_target_len = tf.reduce_max(target_sequence_length, name='max_target_len')\n",
    "    return inputs, targets, learning_rate, keep_prob, target_sequence_length, max_target_len, source_sequence_length\n",
    "\n",
    "\n",
    "\"\"\"\n",
    "DON'T MODIFY ANYTHING IN THIS CELL THAT IS BELOW THIS LINE\n",
    "\"\"\"\n",
    "tests.test_model_inputs(model_inputs)"
   ]
  },
  {
   "cell_type": "markdown",
   "metadata": {},
   "source": [
    "### Process Decoder Input\n",
    "Implement `process_decoder_input` by removing the last word id from each batch in `target_data` and concat the GO ID to the begining of each batch."
   ]
  },
  {
   "cell_type": "code",
   "execution_count": 8,
   "metadata": {},
   "outputs": [
    {
     "name": "stdout",
     "output_type": "stream",
     "text": [
      "Tests Passed\n"
     ]
    }
   ],
   "source": [
    "def process_decoder_input(target_data, target_vocab_to_int, batch_size):\n",
    "    \"\"\"\n",
    "    Preprocess target data for encoding\n",
    "    :param target_data: Target Placehoder\n",
    "    :param target_vocab_to_int: Dictionary to go from the target words to an id\n",
    "    :param batch_size: Batch Size\n",
    "    :return: Preprocessed target data\n",
    "    \"\"\"\n",
    "    # TODO: Implement Function\n",
    "    end_ = tf.strided_slice(target_data, [0,0], [batch_size, -1], [1,1])\n",
    "    decoder_in = tf.concat([tf.fill([batch_size, 1], target_vocab_to_int['<GO>']), end_], 1)\n",
    "    return decoder_in\n",
    "\n",
    "\"\"\"\n",
    "DON'T MODIFY ANYTHING IN THIS CELL THAT IS BELOW THIS LINE\n",
    "\"\"\"\n",
    "tests.test_process_encoding_input(process_decoder_input)"
   ]
  },
  {
   "cell_type": "markdown",
   "metadata": {},
   "source": [
    "### Encoding\n",
    "Implement `encoding_layer()` to create a Encoder RNN layer:\n",
    " * Embed the encoder input using [`tf.contrib.layers.embed_sequence`](https://www.tensorflow.org/api_docs/python/tf/contrib/layers/embed_sequence)\n",
    " * Construct a [stacked](https://github.com/tensorflow/tensorflow/blob/6947f65a374ebf29e74bb71e36fd82760056d82c/tensorflow/docs_src/tutorials/recurrent.md#stacking-multiple-lstms) [`tf.contrib.rnn.LSTMCell`](https://www.tensorflow.org/api_docs/python/tf/contrib/rnn/LSTMCell) wrapped in a [`tf.contrib.rnn.DropoutWrapper`](https://www.tensorflow.org/api_docs/python/tf/contrib/rnn/DropoutWrapper)\n",
    " * Pass cell and embedded input to [`tf.nn.dynamic_rnn()`](https://www.tensorflow.org/api_docs/python/tf/nn/dynamic_rnn)"
   ]
  },
  {
   "cell_type": "code",
   "execution_count": 9,
   "metadata": {
    "scrolled": false
   },
   "outputs": [
    {
     "name": "stdout",
     "output_type": "stream",
     "text": [
      "Tests Passed\n"
     ]
    }
   ],
   "source": [
    "from imp import reload\n",
    "reload(tests)\n",
    "\n",
    "def encoding_layer(rnn_inputs, rnn_size, num_layers, keep_prob, \n",
    "                   source_sequence_length, source_vocab_size, \n",
    "                   encoding_embedding_size):\n",
    "    \"\"\"\n",
    "    Create encoding layer\n",
    "    :param rnn_inputs: Inputs for the RNN\n",
    "    :param rnn_size: RNN Size\n",
    "    :param num_layers: Number of layers\n",
    "    :param keep_prob: Dropout keep probability\n",
    "    :param source_sequence_length: a list of the lengths of each sequence in the batch\n",
    "    :param source_vocab_size: vocabulary size of source data\n",
    "    :param encoding_embedding_size: embedding size of source data\n",
    "    :return: tuple (RNN output, RNN state)\n",
    "    \"\"\"\n",
    "    # TODO: Implement Function\n",
    "    embed_input = tf.contrib.layers.embed_sequence(rnn_inputs, source_vocab_size, encoding_embedding_size)\n",
    "    \n",
    "    def make_cell():\n",
    "        cell = tf.contrib.rnn.LSTMCell(rnn_size, initializer=tf.random_uniform_initializer(-0.1,0.1,seed=2))\n",
    "        r_cell = tf.contrib.rnn.DropoutWrapper(cell, output_keep_prob=keep_prob)\n",
    "        return r_cell\n",
    "    \n",
    "    rnn_cell = tf.contrib.rnn.MultiRNNCell([make_cell() for _ in range(num_layers)])\n",
    "    \n",
    "    output, state = tf.nn.dynamic_rnn(rnn_cell, embed_input, sequence_length=source_sequence_length, dtype=tf.float32)\n",
    "    \n",
    "    return output, state\n",
    "\n",
    "\n",
    "\"\"\"\n",
    "DON'T MODIFY ANYTHING IN THIS CELL THAT IS BELOW THIS LINE\n",
    "\"\"\"\n",
    "tests.test_encoding_layer(encoding_layer)"
   ]
  },
  {
   "cell_type": "markdown",
   "metadata": {},
   "source": [
    "### Decoding - Training\n",
    "Create a training decoding layer:\n",
    "* Create a [`tf.contrib.seq2seq.TrainingHelper`](https://www.tensorflow.org/api_docs/python/tf/contrib/seq2seq/TrainingHelper) \n",
    "* Create a [`tf.contrib.seq2seq.BasicDecoder`](https://www.tensorflow.org/api_docs/python/tf/contrib/seq2seq/BasicDecoder)\n",
    "* Obtain the decoder outputs from [`tf.contrib.seq2seq.dynamic_decode`](https://www.tensorflow.org/api_docs/python/tf/contrib/seq2seq/dynamic_decode)"
   ]
  },
  {
   "cell_type": "code",
   "execution_count": 10,
   "metadata": {},
   "outputs": [
    {
     "name": "stdout",
     "output_type": "stream",
     "text": [
      "Tests Passed\n"
     ]
    }
   ],
   "source": [
    "\n",
    "def decoding_layer_train(encoder_state, dec_cell, dec_embed_input, \n",
    "                         target_sequence_length, max_summary_length, \n",
    "                         output_layer, keep_prob):\n",
    "    \"\"\"\n",
    "    Create a decoding layer for training\n",
    "    :param encoder_state: Encoder State\n",
    "    :param dec_cell: Decoder RNN Cell\n",
    "    :param dec_embed_input: Decoder embedded input\n",
    "    :param target_sequence_length: The lengths of each sequence in the target batch\n",
    "    :param max_summary_length: The length of the longest sequence in the batch\n",
    "    :param output_layer: Function to apply the output layer\n",
    "    :param keep_prob: Dropout keep probability\n",
    "    :return: BasicDecoderOutput containing training logits and sample_id\n",
    "    \"\"\"\n",
    "    # TODO: Implement Function\n",
    "    helper = tf.contrib.seq2seq.TrainingHelper(inputs=dec_embed_input,\n",
    "                                                            sequence_length=target_sequence_length,\n",
    "                                                            time_major=False)\n",
    "    \n",
    "    decoder = tf.contrib.seq2seq.BasicDecoder(dec_cell, helper, encoder_state, output_layer)\n",
    "    \n",
    "    output = tf.contrib.seq2seq.dynamic_decode(decoder, impute_finished=True,\n",
    "                                               maximum_iterations=max_summary_length)[0]\n",
    "    return output\n",
    "\n",
    "\n",
    "\n",
    "\"\"\"\n",
    "DON'T MODIFY ANYTHING IN THIS CELL THAT IS BELOW THIS LINE\n",
    "\"\"\"\n",
    "tests.test_decoding_layer_train(decoding_layer_train)"
   ]
  },
  {
   "cell_type": "markdown",
   "metadata": {},
   "source": [
    "### Decoding - Inference\n",
    "Create inference decoder:\n",
    "* Create a [`tf.contrib.seq2seq.GreedyEmbeddingHelper`](https://www.tensorflow.org/api_docs/python/tf/contrib/seq2seq/GreedyEmbeddingHelper)\n",
    "* Create a [`tf.contrib.seq2seq.BasicDecoder`](https://www.tensorflow.org/api_docs/python/tf/contrib/seq2seq/BasicDecoder)\n",
    "* Obtain the decoder outputs from [`tf.contrib.seq2seq.dynamic_decode`](https://www.tensorflow.org/api_docs/python/tf/contrib/seq2seq/dynamic_decode)"
   ]
  },
  {
   "cell_type": "code",
   "execution_count": 11,
   "metadata": {
    "scrolled": true
   },
   "outputs": [
    {
     "name": "stdout",
     "output_type": "stream",
     "text": [
      "Tests Passed\n"
     ]
    }
   ],
   "source": [
    "def decoding_layer_infer(encoder_state, dec_cell, dec_embeddings, start_of_sequence_id,\n",
    "                         end_of_sequence_id, max_target_sequence_length,\n",
    "                         vocab_size, output_layer, batch_size, keep_prob):\n",
    "    \"\"\"\n",
    "    Create a decoding layer for inference\n",
    "    :param encoder_state: Encoder state\n",
    "    :param dec_cell: Decoder RNN Cell\n",
    "    :param dec_embeddings: Decoder embeddings\n",
    "    :param start_of_sequence_id: GO ID\n",
    "    :param end_of_sequence_id: EOS Id\n",
    "    :param max_target_sequence_length: Maximum length of target sequences\n",
    "    :param vocab_size: Size of decoder/target vocabulary\n",
    "    :param decoding_scope: TenorFlow Variable Scope for decoding\n",
    "    :param output_layer: Function to apply the output layer\n",
    "    :param batch_size: Batch size\n",
    "    :param keep_prob: Dropout keep probability\n",
    "    :return: BasicDecoderOutput containing inference logits and sample_id\n",
    "    \"\"\"\n",
    "    # TODO: Implement Function\n",
    "    start_tokens = tf.tile(tf.constant([start_of_sequence_id], dtype=tf.int32), [batch_size], name='start_tokens')\n",
    "    helper = tf.contrib.seq2seq.GreedyEmbeddingHelper(dec_embeddings,\n",
    "                                                        start_tokens,\n",
    "                                                        end_of_sequence_id)\n",
    "    \n",
    "    b_decoder = tf.contrib.seq2seq.BasicDecoder(dec_cell,\n",
    "                                                helper,\n",
    "                                                encoder_state,\n",
    "                                                output_layer)\n",
    "    \n",
    "    output = tf.contrib.seq2seq.dynamic_decode(b_decoder,\n",
    "                                                    impute_finished=True,\n",
    "                                                    maximum_iterations=max_target_sequence_length)[0]\n",
    "    return output\n",
    "\n",
    "\n",
    "\n",
    "\"\"\"\n",
    "DON'T MODIFY ANYTHING IN THIS CELL THAT IS BELOW THIS LINE\n",
    "\"\"\"\n",
    "tests.test_decoding_layer_infer(decoding_layer_infer)"
   ]
  },
  {
   "cell_type": "markdown",
   "metadata": {},
   "source": [
    "### Build the Decoding Layer\n",
    "Implement `decoding_layer()` to create a Decoder RNN layer.\n",
    "\n",
    "* Embed the target sequences\n",
    "* Construct the decoder LSTM cell (just like you constructed the encoder cell above)\n",
    "* Create an output layer to map the outputs of the decoder to the elements of our vocabulary\n",
    "* Use the your `decoding_layer_train(encoder_state, dec_cell, dec_embed_input, target_sequence_length, max_target_sequence_length, output_layer, keep_prob)` function to get the training logits.\n",
    "* Use your `decoding_layer_infer(encoder_state, dec_cell, dec_embeddings, start_of_sequence_id, end_of_sequence_id, max_target_sequence_length, vocab_size, output_layer, batch_size, keep_prob)` function to get the inference logits.\n",
    "\n",
    "Note: You'll need to use [tf.variable_scope](https://www.tensorflow.org/api_docs/python/tf/variable_scope) to share variables between training and inference."
   ]
  },
  {
   "cell_type": "code",
   "execution_count": 12,
   "metadata": {},
   "outputs": [
    {
     "name": "stdout",
     "output_type": "stream",
     "text": [
      "Tests Passed\n"
     ]
    }
   ],
   "source": [
    "def decoding_layer(dec_input, encoder_state,\n",
    "                   target_sequence_length, max_target_sequence_length,\n",
    "                   rnn_size,\n",
    "                   num_layers, target_vocab_to_int, target_vocab_size,\n",
    "                   batch_size, keep_prob, decoding_embedding_size):\n",
    "    \"\"\"\n",
    "    Create decoding layer\n",
    "    :param dec_input: Decoder input\n",
    "    :param encoder_state: Encoder state\n",
    "    :param target_sequence_length: The lengths of each sequence in the target batch\n",
    "    :param max_target_sequence_length: Maximum length of target sequences\n",
    "    :param rnn_size: RNN Size\n",
    "    :param num_layers: Number of layers\n",
    "    :param target_vocab_to_int: Dictionary to go from the target words to an id\n",
    "    :param target_vocab_size: Size of target vocabulary\n",
    "    :param batch_size: The size of the batch\n",
    "    :param keep_prob: Dropout keep probability\n",
    "    :return: Tuple of (Training BasicDecoderOutput, Inference BasicDecoderOutput)\n",
    "    \"\"\"\n",
    "    # TODO: Implement Function\n",
    "    dec_embeddings = tf.Variable(tf.random_uniform([target_vocab_size, decoding_embedding_size]))\n",
    "    dec_embed_input = tf.nn.embedding_lookup(dec_embeddings, dec_input)\n",
    "    \n",
    "    def make_cell():\n",
    "        cell = tf.contrib.rnn.LSTMCell(rnn_size, initializer=tf.random_uniform_initializer(-0.1,0.1,seed=2))\n",
    "        r_cell = tf.contrib.rnn.DropoutWrapper(cell, output_keep_prob=keep_prob)\n",
    "        return r_cell\n",
    "    \n",
    "    dec_cell = tf.contrib.rnn.MultiRNNCell([make_cell() for _ in range(num_layers)])\n",
    "    \n",
    "    start_of_sequence_id = target_vocab_to_int['<GO>']\n",
    "    end_of_sequence_id = target_vocab_to_int['<EOS>']\n",
    "    \n",
    "    with tf.variable_scope(\"decoding_scope\") as decoding_scope:\n",
    "        output_layer = Dense(target_vocab_size,\n",
    "                         kernel_initializer = tf.truncated_normal_initializer(mean = 0.0, stddev=0.1))\n",
    "\n",
    "\n",
    "        t_logits = decoding_layer_train(encoder_state, dec_cell, dec_embed_input, \n",
    "                                        target_sequence_length, max_target_sequence_length, \n",
    "                                        output_layer, keep_prob)\n",
    "        \n",
    "        decoding_scope.reuse_variables()\n",
    "\n",
    "        i_logits = decoding_layer_infer(encoder_state, dec_cell, \n",
    "                                        dec_embeddings, start_of_sequence_id, \n",
    "                                        end_of_sequence_id, max_target_sequence_length, \n",
    "                                        target_vocab_size, output_layer, \n",
    "                                        batch_size, keep_prob)\n",
    "    \n",
    "    return t_logits, i_logits\n",
    "\n",
    "\n",
    "\n",
    "\"\"\"\n",
    "DON'T MODIFY ANYTHING IN THIS CELL THAT IS BELOW THIS LINE\n",
    "\"\"\"\n",
    "tests.test_decoding_layer(decoding_layer)"
   ]
  },
  {
   "cell_type": "markdown",
   "metadata": {},
   "source": [
    "### Build the Neural Network\n",
    "Apply the functions you implemented above to:\n",
    "\n",
    "- Apply embedding to the input data for the encoder.\n",
    "- Encode the input using your `encoding_layer(rnn_inputs, rnn_size, num_layers, keep_prob,  source_sequence_length, source_vocab_size, encoding_embedding_size)`.\n",
    "- Process target data using your `process_decoder_input(target_data, target_vocab_to_int, batch_size)` function.\n",
    "- Apply embedding to the target data for the decoder.\n",
    "- Decode the encoded input using your `decoding_layer(dec_input, enc_state, target_sequence_length, max_target_sentence_length, rnn_size, num_layers, target_vocab_to_int, target_vocab_size, batch_size, keep_prob, dec_embedding_size)` function."
   ]
  },
  {
   "cell_type": "code",
   "execution_count": 13,
   "metadata": {},
   "outputs": [
    {
     "name": "stdout",
     "output_type": "stream",
     "text": [
      "Tests Passed\n"
     ]
    }
   ],
   "source": [
    "def seq2seq_model(input_data, target_data, keep_prob, batch_size,\n",
    "                  source_sequence_length, target_sequence_length,\n",
    "                  max_target_sentence_length,\n",
    "                  source_vocab_size, target_vocab_size,\n",
    "                  enc_embedding_size, dec_embedding_size,\n",
    "                  rnn_size, num_layers, target_vocab_to_int): \n",
    "\n",
    "    \"\"\"\n",
    "    Build the Sequence-to-Sequence part of the neural network\n",
    "    :param input_data: Input placeholder\n",
    "    :param target_data: Target placeholder\n",
    "    :param keep_prob: Dropout keep probability placeholder\n",
    "    :param batch_size: Batch Size\n",
    "    :param source_sequence_length: Sequence Lengths of source sequences in the batch\n",
    "    :param target_sequence_length: Sequence Lengths of target sequences in the batch\n",
    "    :param source_vocab_size: Source vocabulary size\n",
    "    :param target_vocab_size: Target vocabulary size\n",
    "    :param enc_embedding_size: Decoder embedding size\n",
    "    :param dec_embedding_size: Encoder embedding size\n",
    "    :param rnn_size: RNN Size\n",
    "    :param num_layers: Number of layers\n",
    "    :param target_vocab_to_int: Dictionary to go from the target words to an id\n",
    "    :return: Tuple of (Training BasicDecoderOutput, Inference BasicDecoderOutput)\n",
    "    \"\"\"\n",
    "    # TODO: Implement Function\n",
    "    _, enc_state = encoding_layer(input_data, \n",
    "                                  rnn_size, \n",
    "                                  num_layers,\n",
    "                                  keep_prob,\n",
    "                                  source_sequence_length,\n",
    "                                  source_vocab_size, \n",
    "                                  enc_embedding_size)\n",
    "    \n",
    "    dec_input = process_decoder_input(target_data, target_vocab_to_int, batch_size)\n",
    "    \n",
    "    training_decoder_output, inference_decoder_output = decoding_layer(dec_input, enc_state, \n",
    "                                                                       target_sequence_length, \n",
    "                                                                       max_target_sentence_length, rnn_size, \n",
    "                                                                       num_layers, target_vocab_to_int, \n",
    "                                                                       target_vocab_size, batch_size, \n",
    "                                                                       keep_prob, dec_embedding_size)\n",
    "    \n",
    "    return training_decoder_output, inference_decoder_output\n",
    "\n",
    "\n",
    "\"\"\"\n",
    "DON'T MODIFY ANYTHING IN THIS CELL THAT IS BELOW THIS LINE\n",
    "\"\"\"\n",
    "tests.test_seq2seq_model(seq2seq_model)"
   ]
  },
  {
   "cell_type": "markdown",
   "metadata": {},
   "source": [
    "## Neural Network Training\n",
    "### Hyperparameters\n",
    "Tune the following parameters:\n",
    "\n",
    "- Set `epochs` to the number of epochs.\n",
    "- Set `batch_size` to the batch size.\n",
    "- Set `rnn_size` to the size of the RNNs.\n",
    "- Set `num_layers` to the number of layers.\n",
    "- Set `encoding_embedding_size` to the size of the embedding for the encoder.\n",
    "- Set `decoding_embedding_size` to the size of the embedding for the decoder.\n",
    "- Set `learning_rate` to the learning rate.\n",
    "- Set `keep_probability` to the Dropout keep probability\n",
    "- Set `display_step` to state how many steps between each debug output statement"
   ]
  },
  {
   "cell_type": "code",
   "execution_count": 18,
   "metadata": {
    "collapsed": true
   },
   "outputs": [],
   "source": [
    "# Number of Epochs\n",
    "epochs = 5\n",
    "# Batch Size\n",
    "batch_size = 128\n",
    "# RNN Size\n",
    "rnn_size = 256\n",
    "# Number of Layers\n",
    "num_layers = 3\n",
    "# Embedding Size\n",
    "encoding_embedding_size = 200\n",
    "decoding_embedding_size = 200\n",
    "# Learning Rate\n",
    "learning_rate = 0.001\n",
    "# Dropout Keep Probability\n",
    "keep_probability = 0.8\n",
    "display_step = 20"
   ]
  },
  {
   "cell_type": "markdown",
   "metadata": {},
   "source": [
    "### Build the Graph\n",
    "Build the graph using the neural network you implemented."
   ]
  },
  {
   "cell_type": "code",
   "execution_count": 19,
   "metadata": {
    "collapsed": true
   },
   "outputs": [],
   "source": [
    "\"\"\"\n",
    "DON'T MODIFY ANYTHING IN THIS CELL\n",
    "\"\"\"\n",
    "save_path = 'checkpoints/dev'\n",
    "(source_int_text, target_int_text), (source_vocab_to_int, target_vocab_to_int), _ = helper.load_preprocess()\n",
    "max_target_sentence_length = max([len(sentence) for sentence in source_int_text])\n",
    "\n",
    "train_graph = tf.Graph()\n",
    "with train_graph.as_default():\n",
    "    input_data, targets, lr, keep_prob, target_sequence_length, max_target_sequence_length, source_sequence_length = model_inputs()\n",
    "\n",
    "    #sequence_length = tf.placeholder_with_default(max_target_sentence_length, None, name='sequence_length')\n",
    "    input_shape = tf.shape(input_data)\n",
    "\n",
    "    train_logits, inference_logits = seq2seq_model(tf.reverse(input_data, [-1]),\n",
    "                                                   targets,\n",
    "                                                   keep_prob,\n",
    "                                                   batch_size,\n",
    "                                                   source_sequence_length,\n",
    "                                                   target_sequence_length,\n",
    "                                                   max_target_sequence_length,\n",
    "                                                   len(source_vocab_to_int),\n",
    "                                                   len(target_vocab_to_int),\n",
    "                                                   encoding_embedding_size,\n",
    "                                                   decoding_embedding_size,\n",
    "                                                   rnn_size,\n",
    "                                                   num_layers,\n",
    "                                                   target_vocab_to_int)\n",
    "\n",
    "\n",
    "    training_logits = tf.identity(train_logits.rnn_output, name='logits')\n",
    "    inference_logits = tf.identity(inference_logits.sample_id, name='predictions')\n",
    "\n",
    "    masks = tf.sequence_mask(target_sequence_length, max_target_sequence_length, dtype=tf.float32, name='masks')\n",
    "\n",
    "    with tf.name_scope(\"optimization\"):\n",
    "        # Loss function\n",
    "        cost = tf.contrib.seq2seq.sequence_loss(\n",
    "            training_logits,\n",
    "            targets,\n",
    "            masks)\n",
    "\n",
    "        # Optimizer\n",
    "        optimizer = tf.train.AdamOptimizer(lr)\n",
    "\n",
    "        # Gradient Clipping\n",
    "        gradients = optimizer.compute_gradients(cost)\n",
    "        capped_gradients = [(tf.clip_by_value(grad, -1., 1.), var) for grad, var in gradients if grad is not None]\n",
    "        train_op = optimizer.apply_gradients(capped_gradients)\n"
   ]
  },
  {
   "cell_type": "markdown",
   "metadata": {},
   "source": [
    "Batch and pad the source and target sequences"
   ]
  },
  {
   "cell_type": "code",
   "execution_count": 20,
   "metadata": {
    "collapsed": true
   },
   "outputs": [],
   "source": [
    "\"\"\"\n",
    "DON'T MODIFY ANYTHING IN THIS CELL\n",
    "\"\"\"\n",
    "def pad_sentence_batch(sentence_batch, pad_int):\n",
    "    \"\"\"Pad sentences with <PAD> so that each sentence of a batch has the same length\"\"\"\n",
    "    max_sentence = max([len(sentence) for sentence in sentence_batch])\n",
    "    return [sentence + [pad_int] * (max_sentence - len(sentence)) for sentence in sentence_batch]\n",
    "\n",
    "\n",
    "def get_batches(sources, targets, batch_size, source_pad_int, target_pad_int):\n",
    "    \"\"\"Batch targets, sources, and the lengths of their sentences together\"\"\"\n",
    "    for batch_i in range(0, len(sources)//batch_size):\n",
    "        start_i = batch_i * batch_size\n",
    "\n",
    "        # Slice the right amount for the batch\n",
    "        sources_batch = sources[start_i:start_i + batch_size]\n",
    "        targets_batch = targets[start_i:start_i + batch_size]\n",
    "\n",
    "        # Pad\n",
    "        pad_sources_batch = np.array(pad_sentence_batch(sources_batch, source_pad_int))\n",
    "        pad_targets_batch = np.array(pad_sentence_batch(targets_batch, target_pad_int))\n",
    "\n",
    "        # Need the lengths for the _lengths parameters\n",
    "        pad_targets_lengths = []\n",
    "        for target in pad_targets_batch:\n",
    "            pad_targets_lengths.append(len(target))\n",
    "\n",
    "        pad_source_lengths = []\n",
    "        for source in pad_sources_batch:\n",
    "            pad_source_lengths.append(len(source))\n",
    "\n",
    "        yield pad_sources_batch, pad_targets_batch, pad_source_lengths, pad_targets_lengths\n"
   ]
  },
  {
   "cell_type": "markdown",
   "metadata": {},
   "source": [
    "### Train\n",
    "Train the neural network on the preprocessed data. If you have a hard time getting a good loss, check the forms to see if anyone is having the same problem."
   ]
  },
  {
   "cell_type": "code",
   "execution_count": 21,
   "metadata": {
    "scrolled": true
   },
   "outputs": [
    {
     "name": "stdout",
     "output_type": "stream",
     "text": [
      "Epoch   0 Batch   20/1077 - Train Accuracy: 0.3832, Validation Accuracy: 0.4389, Loss: 2.9436\n",
      "Epoch   0 Batch   40/1077 - Train Accuracy: 0.4316, Validation Accuracy: 0.4851, Loss: 2.5245\n",
      "Epoch   0 Batch   60/1077 - Train Accuracy: 0.4669, Validation Accuracy: 0.4950, Loss: 2.1857\n",
      "Epoch   0 Batch   80/1077 - Train Accuracy: 0.4547, Validation Accuracy: 0.5199, Loss: 2.0270\n",
      "Epoch   0 Batch  100/1077 - Train Accuracy: 0.4836, Validation Accuracy: 0.5149, Loss: 1.9281\n",
      "Epoch   0 Batch  120/1077 - Train Accuracy: 0.4926, Validation Accuracy: 0.5312, Loss: 1.7276\n",
      "Epoch   0 Batch  140/1077 - Train Accuracy: 0.4412, Validation Accuracy: 0.5128, Loss: 1.7426\n",
      "Epoch   0 Batch  160/1077 - Train Accuracy: 0.4793, Validation Accuracy: 0.5174, Loss: 1.5361\n",
      "Epoch   0 Batch  180/1077 - Train Accuracy: 0.4727, Validation Accuracy: 0.5252, Loss: 1.4621\n",
      "Epoch   0 Batch  200/1077 - Train Accuracy: 0.4645, Validation Accuracy: 0.5114, Loss: 1.3956\n",
      "Epoch   0 Batch  220/1077 - Train Accuracy: 0.4868, Validation Accuracy: 0.5291, Loss: 1.3595\n",
      "Epoch   0 Batch  240/1077 - Train Accuracy: 0.5320, Validation Accuracy: 0.5724, Loss: 1.2484\n",
      "Epoch   0 Batch  260/1077 - Train Accuracy: 0.5458, Validation Accuracy: 0.5323, Loss: 1.1392\n",
      "Epoch   0 Batch  280/1077 - Train Accuracy: 0.5395, Validation Accuracy: 0.5479, Loss: 1.1863\n",
      "Epoch   0 Batch  300/1077 - Train Accuracy: 0.5255, Validation Accuracy: 0.5824, Loss: 1.1182\n",
      "Epoch   0 Batch  320/1077 - Train Accuracy: 0.5574, Validation Accuracy: 0.5547, Loss: 1.0411\n",
      "Epoch   0 Batch  340/1077 - Train Accuracy: 0.5308, Validation Accuracy: 0.5728, Loss: 1.0115\n",
      "Epoch   0 Batch  360/1077 - Train Accuracy: 0.5656, Validation Accuracy: 0.5891, Loss: 0.9504\n",
      "Epoch   0 Batch  380/1077 - Train Accuracy: 0.5703, Validation Accuracy: 0.5938, Loss: 0.9248\n",
      "Epoch   0 Batch  400/1077 - Train Accuracy: 0.5902, Validation Accuracy: 0.5987, Loss: 0.8938\n",
      "Epoch   0 Batch  420/1077 - Train Accuracy: 0.5883, Validation Accuracy: 0.6016, Loss: 0.8484\n",
      "Epoch   0 Batch  440/1077 - Train Accuracy: 0.5570, Validation Accuracy: 0.5923, Loss: 0.9140\n",
      "Epoch   0 Batch  460/1077 - Train Accuracy: 0.5594, Validation Accuracy: 0.6072, Loss: 0.8299\n",
      "Epoch   0 Batch  480/1077 - Train Accuracy: 0.5683, Validation Accuracy: 0.5977, Loss: 0.8164\n",
      "Epoch   0 Batch  500/1077 - Train Accuracy: 0.5773, Validation Accuracy: 0.6126, Loss: 0.7875\n",
      "Epoch   0 Batch  520/1077 - Train Accuracy: 0.5952, Validation Accuracy: 0.6133, Loss: 0.7233\n",
      "Epoch   0 Batch  540/1077 - Train Accuracy: 0.5660, Validation Accuracy: 0.6090, Loss: 0.7143\n",
      "Epoch   0 Batch  560/1077 - Train Accuracy: 0.5699, Validation Accuracy: 0.6126, Loss: 0.7159\n",
      "Epoch   0 Batch  580/1077 - Train Accuracy: 0.6436, Validation Accuracy: 0.6300, Loss: 0.6434\n",
      "Epoch   0 Batch  600/1077 - Train Accuracy: 0.6112, Validation Accuracy: 0.6388, Loss: 0.6482\n",
      "Epoch   0 Batch  620/1077 - Train Accuracy: 0.5977, Validation Accuracy: 0.6360, Loss: 0.6503\n",
      "Epoch   0 Batch  640/1077 - Train Accuracy: 0.5900, Validation Accuracy: 0.6243, Loss: 0.6344\n",
      "Epoch   0 Batch  660/1077 - Train Accuracy: 0.6023, Validation Accuracy: 0.6282, Loss: 0.6384\n",
      "Epoch   0 Batch  680/1077 - Train Accuracy: 0.6239, Validation Accuracy: 0.6431, Loss: 0.6084\n",
      "Epoch   0 Batch  700/1077 - Train Accuracy: 0.5719, Validation Accuracy: 0.6417, Loss: 0.6002\n",
      "Epoch   0 Batch  720/1077 - Train Accuracy: 0.5822, Validation Accuracy: 0.6030, Loss: 0.7142\n",
      "Epoch   0 Batch  740/1077 - Train Accuracy: 0.6102, Validation Accuracy: 0.6445, Loss: 0.5848\n",
      "Epoch   0 Batch  760/1077 - Train Accuracy: 0.6316, Validation Accuracy: 0.6413, Loss: 0.5897\n",
      "Epoch   0 Batch  780/1077 - Train Accuracy: 0.6457, Validation Accuracy: 0.6488, Loss: 0.5959\n",
      "Epoch   0 Batch  800/1077 - Train Accuracy: 0.6219, Validation Accuracy: 0.6552, Loss: 0.5575\n",
      "Epoch   0 Batch  820/1077 - Train Accuracy: 0.6324, Validation Accuracy: 0.6683, Loss: 0.5541\n",
      "Epoch   0 Batch  840/1077 - Train Accuracy: 0.6805, Validation Accuracy: 0.6800, Loss: 0.5122\n",
      "Epoch   0 Batch  860/1077 - Train Accuracy: 0.6622, Validation Accuracy: 0.6516, Loss: 0.5125\n",
      "Epoch   0 Batch  880/1077 - Train Accuracy: 0.6937, Validation Accuracy: 0.6832, Loss: 0.5064\n",
      "Epoch   0 Batch  900/1077 - Train Accuracy: 0.6848, Validation Accuracy: 0.6935, Loss: 0.5209\n",
      "Epoch   0 Batch  920/1077 - Train Accuracy: 0.6906, Validation Accuracy: 0.7013, Loss: 0.4834\n",
      "Epoch   0 Batch  940/1077 - Train Accuracy: 0.7289, Validation Accuracy: 0.6950, Loss: 0.4568\n",
      "Epoch   0 Batch  960/1077 - Train Accuracy: 0.7005, Validation Accuracy: 0.6918, Loss: 0.4323\n",
      "Epoch   0 Batch  980/1077 - Train Accuracy: 0.6867, Validation Accuracy: 0.6957, Loss: 0.4399\n",
      "Epoch   0 Batch 1000/1077 - Train Accuracy: 0.7504, Validation Accuracy: 0.7180, Loss: 0.3968\n",
      "Epoch   0 Batch 1020/1077 - Train Accuracy: 0.7285, Validation Accuracy: 0.7379, Loss: 0.4045\n",
      "Epoch   0 Batch 1040/1077 - Train Accuracy: 0.7352, Validation Accuracy: 0.7262, Loss: 0.4322\n",
      "Epoch   0 Batch 1060/1077 - Train Accuracy: 0.7336, Validation Accuracy: 0.7216, Loss: 0.3750\n",
      "Epoch   1 Batch   20/1077 - Train Accuracy: 0.7270, Validation Accuracy: 0.7557, Loss: 0.3372\n",
      "Epoch   1 Batch   40/1077 - Train Accuracy: 0.7527, Validation Accuracy: 0.7766, Loss: 0.3499\n",
      "Epoch   1 Batch   60/1077 - Train Accuracy: 0.7835, Validation Accuracy: 0.7631, Loss: 0.3217\n",
      "Epoch   1 Batch   80/1077 - Train Accuracy: 0.7680, Validation Accuracy: 0.7496, Loss: 0.3251\n",
      "Epoch   1 Batch  100/1077 - Train Accuracy: 0.7820, Validation Accuracy: 0.7695, Loss: 0.3240\n",
      "Epoch   1 Batch  120/1077 - Train Accuracy: 0.7809, Validation Accuracy: 0.7955, Loss: 0.3304\n",
      "Epoch   1 Batch  140/1077 - Train Accuracy: 0.7969, Validation Accuracy: 0.7589, Loss: 0.3132\n",
      "Epoch   1 Batch  160/1077 - Train Accuracy: 0.7801, Validation Accuracy: 0.7649, Loss: 0.3040\n",
      "Epoch   1 Batch  180/1077 - Train Accuracy: 0.8203, Validation Accuracy: 0.7635, Loss: 0.2716\n",
      "Epoch   1 Batch  200/1077 - Train Accuracy: 0.7934, Validation Accuracy: 0.7738, Loss: 0.2964\n",
      "Epoch   1 Batch  220/1077 - Train Accuracy: 0.8310, Validation Accuracy: 0.7784, Loss: 0.2827\n",
      "Epoch   1 Batch  240/1077 - Train Accuracy: 0.8668, Validation Accuracy: 0.7947, Loss: 0.2518\n",
      "Epoch   1 Batch  260/1077 - Train Accuracy: 0.8638, Validation Accuracy: 0.8121, Loss: 0.2277\n",
      "Epoch   1 Batch  280/1077 - Train Accuracy: 0.8023, Validation Accuracy: 0.8260, Loss: 0.2630\n",
      "Epoch   1 Batch  300/1077 - Train Accuracy: 0.8787, Validation Accuracy: 0.8207, Loss: 0.2334\n",
      "Epoch   1 Batch  320/1077 - Train Accuracy: 0.8508, Validation Accuracy: 0.8455, Loss: 0.2262\n",
      "Epoch   1 Batch  340/1077 - Train Accuracy: 0.8877, Validation Accuracy: 0.8526, Loss: 0.2147\n",
      "Epoch   1 Batch  360/1077 - Train Accuracy: 0.8773, Validation Accuracy: 0.8409, Loss: 0.2022\n",
      "Epoch   1 Batch  380/1077 - Train Accuracy: 0.8883, Validation Accuracy: 0.8558, Loss: 0.1937\n",
      "Epoch   1 Batch  400/1077 - Train Accuracy: 0.8945, Validation Accuracy: 0.8438, Loss: 0.2070\n",
      "Epoch   1 Batch  420/1077 - Train Accuracy: 0.9082, Validation Accuracy: 0.8640, Loss: 0.1785\n",
      "Epoch   1 Batch  440/1077 - Train Accuracy: 0.8332, Validation Accuracy: 0.8551, Loss: 0.2177\n",
      "Epoch   1 Batch  460/1077 - Train Accuracy: 0.8879, Validation Accuracy: 0.8690, Loss: 0.1933\n",
      "Epoch   1 Batch  480/1077 - Train Accuracy: 0.8766, Validation Accuracy: 0.8651, Loss: 0.1797\n",
      "Epoch   1 Batch  500/1077 - Train Accuracy: 0.8938, Validation Accuracy: 0.8672, Loss: 0.1641\n",
      "Epoch   1 Batch  520/1077 - Train Accuracy: 0.9133, Validation Accuracy: 0.8775, Loss: 0.1471\n",
      "Epoch   1 Batch  540/1077 - Train Accuracy: 0.8750, Validation Accuracy: 0.8612, Loss: 0.1486\n",
      "Epoch   1 Batch  560/1077 - Train Accuracy: 0.8930, Validation Accuracy: 0.8512, Loss: 0.1484\n",
      "Epoch   1 Batch  580/1077 - Train Accuracy: 0.9111, Validation Accuracy: 0.8764, Loss: 0.1334\n",
      "Epoch   1 Batch  600/1077 - Train Accuracy: 0.8884, Validation Accuracy: 0.8864, Loss: 0.1405\n",
      "Epoch   1 Batch  620/1077 - Train Accuracy: 0.9305, Validation Accuracy: 0.8771, Loss: 0.1292\n",
      "Epoch   1 Batch  640/1077 - Train Accuracy: 0.8958, Validation Accuracy: 0.8942, Loss: 0.1297\n",
      "Epoch   1 Batch  660/1077 - Train Accuracy: 0.9055, Validation Accuracy: 0.8874, Loss: 0.1434\n",
      "Epoch   1 Batch  680/1077 - Train Accuracy: 0.8966, Validation Accuracy: 0.8963, Loss: 0.1278\n",
      "Epoch   1 Batch  700/1077 - Train Accuracy: 0.9301, Validation Accuracy: 0.8796, Loss: 0.1007\n"
     ]
    },
    {
     "name": "stdout",
     "output_type": "stream",
     "text": [
      "Epoch   1 Batch  720/1077 - Train Accuracy: 0.8849, Validation Accuracy: 0.8871, Loss: 0.1507\n",
      "Epoch   1 Batch  740/1077 - Train Accuracy: 0.8926, Validation Accuracy: 0.8853, Loss: 0.1256\n",
      "Epoch   1 Batch  760/1077 - Train Accuracy: 0.8980, Validation Accuracy: 0.9034, Loss: 0.1348\n",
      "Epoch   1 Batch  780/1077 - Train Accuracy: 0.8664, Validation Accuracy: 0.8782, Loss: 0.1274\n",
      "Epoch   1 Batch  800/1077 - Train Accuracy: 0.8996, Validation Accuracy: 0.9091, Loss: 0.0957\n",
      "Epoch   1 Batch  820/1077 - Train Accuracy: 0.8898, Validation Accuracy: 0.8999, Loss: 0.0969\n",
      "Epoch   1 Batch  840/1077 - Train Accuracy: 0.9152, Validation Accuracy: 0.9059, Loss: 0.0891\n",
      "Epoch   1 Batch  860/1077 - Train Accuracy: 0.9070, Validation Accuracy: 0.9116, Loss: 0.1031\n",
      "Epoch   1 Batch  880/1077 - Train Accuracy: 0.9270, Validation Accuracy: 0.8974, Loss: 0.1015\n",
      "Epoch   1 Batch  900/1077 - Train Accuracy: 0.9348, Validation Accuracy: 0.8974, Loss: 0.1039\n",
      "Epoch   1 Batch  920/1077 - Train Accuracy: 0.9148, Validation Accuracy: 0.9016, Loss: 0.0899\n",
      "Epoch   1 Batch  940/1077 - Train Accuracy: 0.9234, Validation Accuracy: 0.9112, Loss: 0.0741\n",
      "Epoch   1 Batch  960/1077 - Train Accuracy: 0.9226, Validation Accuracy: 0.8814, Loss: 0.0919\n",
      "Epoch   1 Batch  980/1077 - Train Accuracy: 0.9051, Validation Accuracy: 0.8981, Loss: 0.0909\n",
      "Epoch   1 Batch 1000/1077 - Train Accuracy: 0.9178, Validation Accuracy: 0.9009, Loss: 0.0770\n",
      "Epoch   1 Batch 1020/1077 - Train Accuracy: 0.9500, Validation Accuracy: 0.9066, Loss: 0.0634\n",
      "Epoch   1 Batch 1040/1077 - Train Accuracy: 0.9001, Validation Accuracy: 0.8942, Loss: 0.0913\n",
      "Epoch   1 Batch 1060/1077 - Train Accuracy: 0.9262, Validation Accuracy: 0.9041, Loss: 0.0608\n",
      "Epoch   2 Batch   20/1077 - Train Accuracy: 0.9031, Validation Accuracy: 0.9215, Loss: 0.0652\n",
      "Epoch   2 Batch   40/1077 - Train Accuracy: 0.9316, Validation Accuracy: 0.9254, Loss: 0.0708\n",
      "Epoch   2 Batch   60/1077 - Train Accuracy: 0.9289, Validation Accuracy: 0.9073, Loss: 0.0659\n",
      "Epoch   2 Batch   80/1077 - Train Accuracy: 0.9293, Validation Accuracy: 0.9343, Loss: 0.0678\n",
      "Epoch   2 Batch  100/1077 - Train Accuracy: 0.9328, Validation Accuracy: 0.9148, Loss: 0.0600\n",
      "Epoch   2 Batch  120/1077 - Train Accuracy: 0.9258, Validation Accuracy: 0.9240, Loss: 0.0740\n",
      "Epoch   2 Batch  140/1077 - Train Accuracy: 0.9248, Validation Accuracy: 0.9183, Loss: 0.0625\n",
      "Epoch   2 Batch  160/1077 - Train Accuracy: 0.9402, Validation Accuracy: 0.9283, Loss: 0.0674\n",
      "Epoch   2 Batch  180/1077 - Train Accuracy: 0.9602, Validation Accuracy: 0.9084, Loss: 0.0625\n",
      "Epoch   2 Batch  200/1077 - Train Accuracy: 0.9043, Validation Accuracy: 0.9077, Loss: 0.0728\n",
      "Epoch   2 Batch  220/1077 - Train Accuracy: 0.9383, Validation Accuracy: 0.9031, Loss: 0.0587\n",
      "Epoch   2 Batch  240/1077 - Train Accuracy: 0.9566, Validation Accuracy: 0.9148, Loss: 0.0597\n",
      "Epoch   2 Batch  260/1077 - Train Accuracy: 0.9401, Validation Accuracy: 0.9137, Loss: 0.0477\n",
      "Epoch   2 Batch  280/1077 - Train Accuracy: 0.9156, Validation Accuracy: 0.9219, Loss: 0.0666\n",
      "Epoch   2 Batch  300/1077 - Train Accuracy: 0.9568, Validation Accuracy: 0.8942, Loss: 0.0592\n",
      "Epoch   2 Batch  320/1077 - Train Accuracy: 0.9375, Validation Accuracy: 0.9080, Loss: 0.0753\n",
      "Epoch   2 Batch  340/1077 - Train Accuracy: 0.9465, Validation Accuracy: 0.9261, Loss: 0.0569\n",
      "Epoch   2 Batch  360/1077 - Train Accuracy: 0.9586, Validation Accuracy: 0.9208, Loss: 0.0504\n",
      "Epoch   2 Batch  380/1077 - Train Accuracy: 0.9539, Validation Accuracy: 0.9130, Loss: 0.0512\n",
      "Epoch   2 Batch  400/1077 - Train Accuracy: 0.9473, Validation Accuracy: 0.9254, Loss: 0.0658\n",
      "Epoch   2 Batch  420/1077 - Train Accuracy: 0.9715, Validation Accuracy: 0.9031, Loss: 0.0416\n",
      "Epoch   2 Batch  440/1077 - Train Accuracy: 0.9250, Validation Accuracy: 0.9144, Loss: 0.0690\n",
      "Epoch   2 Batch  460/1077 - Train Accuracy: 0.9301, Validation Accuracy: 0.9190, Loss: 0.0582\n",
      "Epoch   2 Batch  480/1077 - Train Accuracy: 0.9387, Validation Accuracy: 0.9254, Loss: 0.0550\n",
      "Epoch   2 Batch  500/1077 - Train Accuracy: 0.9434, Validation Accuracy: 0.9268, Loss: 0.0409\n",
      "Epoch   2 Batch  520/1077 - Train Accuracy: 0.9714, Validation Accuracy: 0.9439, Loss: 0.0447\n",
      "Epoch   2 Batch  540/1077 - Train Accuracy: 0.9516, Validation Accuracy: 0.9371, Loss: 0.0410\n",
      "Epoch   2 Batch  560/1077 - Train Accuracy: 0.9273, Validation Accuracy: 0.9183, Loss: 0.0505\n",
      "Epoch   2 Batch  580/1077 - Train Accuracy: 0.9364, Validation Accuracy: 0.9318, Loss: 0.0447\n",
      "Epoch   2 Batch  600/1077 - Train Accuracy: 0.9442, Validation Accuracy: 0.9308, Loss: 0.0548\n",
      "Epoch   2 Batch  620/1077 - Train Accuracy: 0.9684, Validation Accuracy: 0.9322, Loss: 0.0404\n",
      "Epoch   2 Batch  640/1077 - Train Accuracy: 0.9632, Validation Accuracy: 0.9364, Loss: 0.0460\n",
      "Epoch   2 Batch  660/1077 - Train Accuracy: 0.9551, Validation Accuracy: 0.9414, Loss: 0.0469\n",
      "Epoch   2 Batch  680/1077 - Train Accuracy: 0.9163, Validation Accuracy: 0.9258, Loss: 0.0528\n",
      "Epoch   2 Batch  700/1077 - Train Accuracy: 0.9699, Validation Accuracy: 0.9428, Loss: 0.0337\n",
      "Epoch   2 Batch  720/1077 - Train Accuracy: 0.9523, Validation Accuracy: 0.9343, Loss: 0.0486\n",
      "Epoch   2 Batch  740/1077 - Train Accuracy: 0.9352, Validation Accuracy: 0.9489, Loss: 0.0382\n",
      "Epoch   2 Batch  760/1077 - Train Accuracy: 0.9375, Validation Accuracy: 0.9428, Loss: 0.0587\n",
      "Epoch   2 Batch  780/1077 - Train Accuracy: 0.9301, Validation Accuracy: 0.9361, Loss: 0.0607\n",
      "Epoch   2 Batch  800/1077 - Train Accuracy: 0.9293, Validation Accuracy: 0.9411, Loss: 0.0461\n",
      "Epoch   2 Batch  820/1077 - Train Accuracy: 0.9168, Validation Accuracy: 0.9361, Loss: 0.0494\n",
      "Epoch   2 Batch  840/1077 - Train Accuracy: 0.9656, Validation Accuracy: 0.9371, Loss: 0.0390\n",
      "Epoch   2 Batch  860/1077 - Train Accuracy: 0.9375, Validation Accuracy: 0.9577, Loss: 0.0492\n",
      "Epoch   2 Batch  880/1077 - Train Accuracy: 0.9434, Validation Accuracy: 0.9535, Loss: 0.0567\n",
      "Epoch   2 Batch  900/1077 - Train Accuracy: 0.9566, Validation Accuracy: 0.9339, Loss: 0.0502\n",
      "Epoch   2 Batch  920/1077 - Train Accuracy: 0.9289, Validation Accuracy: 0.9357, Loss: 0.0395\n",
      "Epoch   2 Batch  940/1077 - Train Accuracy: 0.9652, Validation Accuracy: 0.9286, Loss: 0.0332\n",
      "Epoch   2 Batch  960/1077 - Train Accuracy: 0.9438, Validation Accuracy: 0.9197, Loss: 0.0438\n",
      "Epoch   2 Batch  980/1077 - Train Accuracy: 0.9219, Validation Accuracy: 0.9258, Loss: 0.0462\n",
      "Epoch   2 Batch 1000/1077 - Train Accuracy: 0.9301, Validation Accuracy: 0.9244, Loss: 0.0454\n",
      "Epoch   2 Batch 1020/1077 - Train Accuracy: 0.9664, Validation Accuracy: 0.9347, Loss: 0.0356\n",
      "Epoch   2 Batch 1040/1077 - Train Accuracy: 0.9519, Validation Accuracy: 0.9421, Loss: 0.0469\n",
      "Epoch   2 Batch 1060/1077 - Train Accuracy: 0.9621, Validation Accuracy: 0.9272, Loss: 0.0319\n",
      "Epoch   3 Batch   20/1077 - Train Accuracy: 0.9652, Validation Accuracy: 0.9482, Loss: 0.0312\n",
      "Epoch   3 Batch   40/1077 - Train Accuracy: 0.9781, Validation Accuracy: 0.9354, Loss: 0.0360\n",
      "Epoch   3 Batch   60/1077 - Train Accuracy: 0.9416, Validation Accuracy: 0.9389, Loss: 0.0319\n",
      "Epoch   3 Batch   80/1077 - Train Accuracy: 0.9352, Validation Accuracy: 0.9474, Loss: 0.0379\n",
      "Epoch   3 Batch  100/1077 - Train Accuracy: 0.9613, Validation Accuracy: 0.9205, Loss: 0.0342\n",
      "Epoch   3 Batch  120/1077 - Train Accuracy: 0.9383, Validation Accuracy: 0.9474, Loss: 0.0416\n",
      "Epoch   3 Batch  140/1077 - Train Accuracy: 0.9642, Validation Accuracy: 0.9407, Loss: 0.0470\n",
      "Epoch   3 Batch  160/1077 - Train Accuracy: 0.9586, Validation Accuracy: 0.9400, Loss: 0.0320\n",
      "Epoch   3 Batch  180/1077 - Train Accuracy: 0.9660, Validation Accuracy: 0.9325, Loss: 0.0390\n",
      "Epoch   3 Batch  200/1077 - Train Accuracy: 0.9352, Validation Accuracy: 0.9265, Loss: 0.0511\n",
      "Epoch   3 Batch  220/1077 - Train Accuracy: 0.9786, Validation Accuracy: 0.9290, Loss: 0.0409\n",
      "Epoch   3 Batch  240/1077 - Train Accuracy: 0.9746, Validation Accuracy: 0.9538, Loss: 0.0321\n",
      "Epoch   3 Batch  260/1077 - Train Accuracy: 0.9665, Validation Accuracy: 0.9496, Loss: 0.0313\n",
      "Epoch   3 Batch  280/1077 - Train Accuracy: 0.9395, Validation Accuracy: 0.9446, Loss: 0.0446\n",
      "Epoch   3 Batch  300/1077 - Train Accuracy: 0.9618, Validation Accuracy: 0.9400, Loss: 0.0337\n",
      "Epoch   3 Batch  320/1077 - Train Accuracy: 0.9602, Validation Accuracy: 0.9482, Loss: 0.0500\n",
      "Epoch   3 Batch  340/1077 - Train Accuracy: 0.9605, Validation Accuracy: 0.9549, Loss: 0.0287\n"
     ]
    },
    {
     "name": "stdout",
     "output_type": "stream",
     "text": [
      "Epoch   3 Batch  360/1077 - Train Accuracy: 0.9766, Validation Accuracy: 0.9393, Loss: 0.0286\n",
      "Epoch   3 Batch  380/1077 - Train Accuracy: 0.9590, Validation Accuracy: 0.9421, Loss: 0.0288\n",
      "Epoch   3 Batch  400/1077 - Train Accuracy: 0.9602, Validation Accuracy: 0.9450, Loss: 0.0427\n",
      "Epoch   3 Batch  420/1077 - Train Accuracy: 0.9805, Validation Accuracy: 0.9315, Loss: 0.0249\n",
      "Epoch   3 Batch  440/1077 - Train Accuracy: 0.9500, Validation Accuracy: 0.9499, Loss: 0.0454\n",
      "Epoch   3 Batch  460/1077 - Train Accuracy: 0.9633, Validation Accuracy: 0.9379, Loss: 0.0371\n",
      "Epoch   3 Batch  480/1077 - Train Accuracy: 0.9679, Validation Accuracy: 0.9464, Loss: 0.0303\n",
      "Epoch   3 Batch  500/1077 - Train Accuracy: 0.9484, Validation Accuracy: 0.9592, Loss: 0.0264\n",
      "Epoch   3 Batch  520/1077 - Train Accuracy: 0.9836, Validation Accuracy: 0.9485, Loss: 0.0274\n",
      "Epoch   3 Batch  540/1077 - Train Accuracy: 0.9738, Validation Accuracy: 0.9396, Loss: 0.0264\n",
      "Epoch   3 Batch  560/1077 - Train Accuracy: 0.9477, Validation Accuracy: 0.9453, Loss: 0.0338\n",
      "Epoch   3 Batch  580/1077 - Train Accuracy: 0.9647, Validation Accuracy: 0.9535, Loss: 0.0242\n",
      "Epoch   3 Batch  600/1077 - Train Accuracy: 0.9728, Validation Accuracy: 0.9624, Loss: 0.0313\n",
      "Epoch   3 Batch  620/1077 - Train Accuracy: 0.9730, Validation Accuracy: 0.9585, Loss: 0.0242\n",
      "Epoch   3 Batch  640/1077 - Train Accuracy: 0.9769, Validation Accuracy: 0.9638, Loss: 0.0280\n",
      "Epoch   3 Batch  660/1077 - Train Accuracy: 0.9648, Validation Accuracy: 0.9588, Loss: 0.0370\n",
      "Epoch   3 Batch  680/1077 - Train Accuracy: 0.9382, Validation Accuracy: 0.9460, Loss: 0.0363\n",
      "Epoch   3 Batch  700/1077 - Train Accuracy: 0.9840, Validation Accuracy: 0.9542, Loss: 0.0238\n",
      "Epoch   3 Batch  720/1077 - Train Accuracy: 0.9729, Validation Accuracy: 0.9659, Loss: 0.0354\n",
      "Epoch   3 Batch  740/1077 - Train Accuracy: 0.9770, Validation Accuracy: 0.9599, Loss: 0.0218\n",
      "Epoch   3 Batch  760/1077 - Train Accuracy: 0.9586, Validation Accuracy: 0.9457, Loss: 0.0364\n",
      "Epoch   3 Batch  780/1077 - Train Accuracy: 0.9449, Validation Accuracy: 0.9513, Loss: 0.0397\n",
      "Epoch   3 Batch  800/1077 - Train Accuracy: 0.9637, Validation Accuracy: 0.9602, Loss: 0.0294\n",
      "Epoch   3 Batch  820/1077 - Train Accuracy: 0.9703, Validation Accuracy: 0.9506, Loss: 0.0272\n",
      "Epoch   3 Batch  840/1077 - Train Accuracy: 0.9699, Validation Accuracy: 0.9688, Loss: 0.0319\n",
      "Epoch   3 Batch  860/1077 - Train Accuracy: 0.9580, Validation Accuracy: 0.9581, Loss: 0.0348\n",
      "Epoch   3 Batch  880/1077 - Train Accuracy: 0.9551, Validation Accuracy: 0.9453, Loss: 0.0471\n",
      "Epoch   3 Batch  900/1077 - Train Accuracy: 0.9547, Validation Accuracy: 0.9613, Loss: 0.0350\n",
      "Epoch   3 Batch  920/1077 - Train Accuracy: 0.9406, Validation Accuracy: 0.9624, Loss: 0.0321\n",
      "Epoch   3 Batch  940/1077 - Train Accuracy: 0.9465, Validation Accuracy: 0.9659, Loss: 0.0279\n",
      "Epoch   3 Batch  960/1077 - Train Accuracy: 0.9673, Validation Accuracy: 0.9517, Loss: 0.0310\n",
      "Epoch   3 Batch  980/1077 - Train Accuracy: 0.9574, Validation Accuracy: 0.9663, Loss: 0.0322\n",
      "Epoch   3 Batch 1000/1077 - Train Accuracy: 0.9550, Validation Accuracy: 0.9556, Loss: 0.0289\n",
      "Epoch   3 Batch 1020/1077 - Train Accuracy: 0.9766, Validation Accuracy: 0.9357, Loss: 0.0231\n",
      "Epoch   3 Batch 1040/1077 - Train Accuracy: 0.9564, Validation Accuracy: 0.9439, Loss: 0.0346\n",
      "Epoch   3 Batch 1060/1077 - Train Accuracy: 0.9680, Validation Accuracy: 0.9553, Loss: 0.0244\n",
      "Epoch   4 Batch   20/1077 - Train Accuracy: 0.9609, Validation Accuracy: 0.9663, Loss: 0.0259\n",
      "Epoch   4 Batch   40/1077 - Train Accuracy: 0.9777, Validation Accuracy: 0.9563, Loss: 0.0276\n",
      "Epoch   4 Batch   60/1077 - Train Accuracy: 0.9576, Validation Accuracy: 0.9638, Loss: 0.0240\n",
      "Epoch   4 Batch   80/1077 - Train Accuracy: 0.9684, Validation Accuracy: 0.9542, Loss: 0.0183\n",
      "Epoch   4 Batch  100/1077 - Train Accuracy: 0.9598, Validation Accuracy: 0.9684, Loss: 0.0264\n",
      "Epoch   4 Batch  120/1077 - Train Accuracy: 0.9578, Validation Accuracy: 0.9521, Loss: 0.0291\n",
      "Epoch   4 Batch  140/1077 - Train Accuracy: 0.9762, Validation Accuracy: 0.9666, Loss: 0.0239\n",
      "Epoch   4 Batch  160/1077 - Train Accuracy: 0.9734, Validation Accuracy: 0.9659, Loss: 0.0250\n",
      "Epoch   4 Batch  180/1077 - Train Accuracy: 0.9637, Validation Accuracy: 0.9616, Loss: 0.0241\n",
      "Epoch   4 Batch  200/1077 - Train Accuracy: 0.9586, Validation Accuracy: 0.9542, Loss: 0.0296\n",
      "Epoch   4 Batch  220/1077 - Train Accuracy: 0.9725, Validation Accuracy: 0.9638, Loss: 0.0249\n",
      "Epoch   4 Batch  240/1077 - Train Accuracy: 0.9883, Validation Accuracy: 0.9656, Loss: 0.0228\n",
      "Epoch   4 Batch  260/1077 - Train Accuracy: 0.9747, Validation Accuracy: 0.9762, Loss: 0.0243\n",
      "Epoch   4 Batch  280/1077 - Train Accuracy: 0.9688, Validation Accuracy: 0.9613, Loss: 0.0288\n",
      "Epoch   4 Batch  300/1077 - Train Accuracy: 0.9663, Validation Accuracy: 0.9542, Loss: 0.0238\n",
      "Epoch   4 Batch  320/1077 - Train Accuracy: 0.9711, Validation Accuracy: 0.9794, Loss: 0.0392\n",
      "Epoch   4 Batch  340/1077 - Train Accuracy: 0.9803, Validation Accuracy: 0.9780, Loss: 0.0276\n",
      "Epoch   4 Batch  360/1077 - Train Accuracy: 0.9812, Validation Accuracy: 0.9673, Loss: 0.0191\n",
      "Epoch   4 Batch  380/1077 - Train Accuracy: 0.9738, Validation Accuracy: 0.9606, Loss: 0.0225\n",
      "Epoch   4 Batch  400/1077 - Train Accuracy: 0.9723, Validation Accuracy: 0.9766, Loss: 0.0312\n",
      "Epoch   4 Batch  420/1077 - Train Accuracy: 0.9758, Validation Accuracy: 0.9627, Loss: 0.0205\n",
      "Epoch   4 Batch  440/1077 - Train Accuracy: 0.9523, Validation Accuracy: 0.9567, Loss: 0.0250\n",
      "Epoch   4 Batch  460/1077 - Train Accuracy: 0.9699, Validation Accuracy: 0.9631, Loss: 0.0241\n",
      "Epoch   4 Batch  480/1077 - Train Accuracy: 0.9799, Validation Accuracy: 0.9680, Loss: 0.0231\n",
      "Epoch   4 Batch  500/1077 - Train Accuracy: 0.9668, Validation Accuracy: 0.9606, Loss: 0.0204\n",
      "Epoch   4 Batch  520/1077 - Train Accuracy: 0.9929, Validation Accuracy: 0.9428, Loss: 0.0221\n",
      "Epoch   4 Batch  540/1077 - Train Accuracy: 0.9754, Validation Accuracy: 0.9595, Loss: 0.0228\n",
      "Epoch   4 Batch  560/1077 - Train Accuracy: 0.9559, Validation Accuracy: 0.9496, Loss: 0.0231\n",
      "Epoch   4 Batch  580/1077 - Train Accuracy: 0.9639, Validation Accuracy: 0.9624, Loss: 0.0245\n",
      "Epoch   4 Batch  600/1077 - Train Accuracy: 0.9617, Validation Accuracy: 0.9592, Loss: 0.0379\n",
      "Epoch   4 Batch  620/1077 - Train Accuracy: 0.9707, Validation Accuracy: 0.9624, Loss: 0.0238\n",
      "Epoch   4 Batch  640/1077 - Train Accuracy: 0.9721, Validation Accuracy: 0.9822, Loss: 0.0248\n",
      "Epoch   4 Batch  660/1077 - Train Accuracy: 0.9754, Validation Accuracy: 0.9737, Loss: 0.0223\n",
      "Epoch   4 Batch  680/1077 - Train Accuracy: 0.9602, Validation Accuracy: 0.9673, Loss: 0.0289\n",
      "Epoch   4 Batch  700/1077 - Train Accuracy: 0.9785, Validation Accuracy: 0.9513, Loss: 0.0286\n",
      "Epoch   4 Batch  720/1077 - Train Accuracy: 0.9700, Validation Accuracy: 0.9577, Loss: 0.0335\n",
      "Epoch   4 Batch  740/1077 - Train Accuracy: 0.9699, Validation Accuracy: 0.9506, Loss: 0.0207\n",
      "Epoch   4 Batch  760/1077 - Train Accuracy: 0.9652, Validation Accuracy: 0.9616, Loss: 0.0238\n",
      "Epoch   4 Batch  780/1077 - Train Accuracy: 0.9445, Validation Accuracy: 0.9666, Loss: 0.0383\n",
      "Epoch   4 Batch  800/1077 - Train Accuracy: 0.9727, Validation Accuracy: 0.9762, Loss: 0.0255\n",
      "Epoch   4 Batch  820/1077 - Train Accuracy: 0.9746, Validation Accuracy: 0.9695, Loss: 0.0229\n",
      "Epoch   4 Batch  840/1077 - Train Accuracy: 0.9809, Validation Accuracy: 0.9716, Loss: 0.0227\n",
      "Epoch   4 Batch  860/1077 - Train Accuracy: 0.9658, Validation Accuracy: 0.9776, Loss: 0.0274\n",
      "Epoch   4 Batch  880/1077 - Train Accuracy: 0.9746, Validation Accuracy: 0.9641, Loss: 0.0317\n",
      "Epoch   4 Batch  900/1077 - Train Accuracy: 0.9707, Validation Accuracy: 0.9595, Loss: 0.0314\n",
      "Epoch   4 Batch  920/1077 - Train Accuracy: 0.9730, Validation Accuracy: 0.9691, Loss: 0.0205\n",
      "Epoch   4 Batch  940/1077 - Train Accuracy: 0.9750, Validation Accuracy: 0.9624, Loss: 0.0228\n",
      "Epoch   4 Batch  960/1077 - Train Accuracy: 0.9728, Validation Accuracy: 0.9485, Loss: 0.0257\n",
      "Epoch   4 Batch  980/1077 - Train Accuracy: 0.9742, Validation Accuracy: 0.9585, Loss: 0.0240\n",
      "Epoch   4 Batch 1000/1077 - Train Accuracy: 0.9803, Validation Accuracy: 0.9549, Loss: 0.0177\n",
      "Epoch   4 Batch 1020/1077 - Train Accuracy: 0.9840, Validation Accuracy: 0.9627, Loss: 0.0199\n",
      "Epoch   4 Batch 1040/1077 - Train Accuracy: 0.9729, Validation Accuracy: 0.9691, Loss: 0.0202\n"
     ]
    },
    {
     "name": "stdout",
     "output_type": "stream",
     "text": [
      "Epoch   4 Batch 1060/1077 - Train Accuracy: 0.9891, Validation Accuracy: 0.9719, Loss: 0.0157\n",
      "Model Trained and Saved\n"
     ]
    }
   ],
   "source": [
    "\"\"\"\n",
    "DON'T MODIFY ANYTHING IN THIS CELL\n",
    "\"\"\"\n",
    "def get_accuracy(target, logits):\n",
    "    \"\"\"\n",
    "    Calculate accuracy\n",
    "    \"\"\"\n",
    "    max_seq = max(target.shape[1], logits.shape[1])\n",
    "    if max_seq - target.shape[1]:\n",
    "        target = np.pad(\n",
    "            target,\n",
    "            [(0,0),(0,max_seq - target.shape[1])],\n",
    "            'constant')\n",
    "    if max_seq - logits.shape[1]:\n",
    "        logits = np.pad(\n",
    "            logits,\n",
    "            [(0,0),(0,max_seq - logits.shape[1])],\n",
    "            'constant')\n",
    "\n",
    "    return np.mean(np.equal(target, logits))\n",
    "\n",
    "# Split data to training and validation sets\n",
    "train_source = source_int_text[batch_size:]\n",
    "train_target = target_int_text[batch_size:]\n",
    "valid_source = source_int_text[:batch_size]\n",
    "valid_target = target_int_text[:batch_size]\n",
    "(valid_sources_batch, valid_targets_batch, valid_sources_lengths, valid_targets_lengths ) = next(get_batches(valid_source,\n",
    "                                                                                                             valid_target,\n",
    "                                                                                                             batch_size,\n",
    "                                                                                                             source_vocab_to_int['<PAD>'],\n",
    "                                                                                                             target_vocab_to_int['<PAD>']))                                                                                                  \n",
    "with tf.Session(graph=train_graph) as sess:\n",
    "    sess.run(tf.global_variables_initializer())\n",
    "\n",
    "    for epoch_i in range(epochs):\n",
    "        for batch_i, (source_batch, target_batch, sources_lengths, targets_lengths) in enumerate(\n",
    "                get_batches(train_source, train_target, batch_size,\n",
    "                            source_vocab_to_int['<PAD>'],\n",
    "                            target_vocab_to_int['<PAD>'])):\n",
    "\n",
    "            _, loss = sess.run(\n",
    "                [train_op, cost],\n",
    "                {input_data: source_batch,\n",
    "                 targets: target_batch,\n",
    "                 lr: learning_rate,\n",
    "                 target_sequence_length: targets_lengths,\n",
    "                 source_sequence_length: sources_lengths,\n",
    "                 keep_prob: keep_probability})\n",
    "\n",
    "\n",
    "            if batch_i % display_step == 0 and batch_i > 0:\n",
    "\n",
    "\n",
    "                batch_train_logits = sess.run(\n",
    "                    inference_logits,\n",
    "                    {input_data: source_batch,\n",
    "                     source_sequence_length: sources_lengths,\n",
    "                     target_sequence_length: targets_lengths,\n",
    "                     keep_prob: 1.0})\n",
    "\n",
    "\n",
    "                batch_valid_logits = sess.run(\n",
    "                    inference_logits,\n",
    "                    {input_data: valid_sources_batch,\n",
    "                     source_sequence_length: valid_sources_lengths,\n",
    "                     target_sequence_length: valid_targets_lengths,\n",
    "                     keep_prob: 1.0})\n",
    "\n",
    "                train_acc = get_accuracy(target_batch, batch_train_logits)\n",
    "\n",
    "                valid_acc = get_accuracy(valid_targets_batch, batch_valid_logits)\n",
    "\n",
    "                print('Epoch {:>3} Batch {:>4}/{} - Train Accuracy: {:>6.4f}, Validation Accuracy: {:>6.4f}, Loss: {:>6.4f}'\n",
    "                      .format(epoch_i, batch_i, len(source_int_text) // batch_size, train_acc, valid_acc, loss))\n",
    "\n",
    "    # Save Model\n",
    "    saver = tf.train.Saver()\n",
    "    saver.save(sess, save_path)\n",
    "    print('Model Trained and Saved')"
   ]
  },
  {
   "cell_type": "markdown",
   "metadata": {},
   "source": [
    "### Save Parameters\n",
    "Save the `batch_size` and `save_path` parameters for inference."
   ]
  },
  {
   "cell_type": "code",
   "execution_count": 22,
   "metadata": {
    "collapsed": true
   },
   "outputs": [],
   "source": [
    "\"\"\"\n",
    "DON'T MODIFY ANYTHING IN THIS CELL\n",
    "\"\"\"\n",
    "# Save parameters for checkpoint\n",
    "helper.save_params(save_path)"
   ]
  },
  {
   "cell_type": "markdown",
   "metadata": {},
   "source": [
    "# Checkpoint"
   ]
  },
  {
   "cell_type": "code",
   "execution_count": 23,
   "metadata": {
    "collapsed": true
   },
   "outputs": [],
   "source": [
    "\"\"\"\n",
    "DON'T MODIFY ANYTHING IN THIS CELL\n",
    "\"\"\"\n",
    "import tensorflow as tf\n",
    "import numpy as np\n",
    "import helper\n",
    "import problem_unittests as tests\n",
    "\n",
    "_, (source_vocab_to_int, target_vocab_to_int), (source_int_to_vocab, target_int_to_vocab) = helper.load_preprocess()\n",
    "load_path = helper.load_params()"
   ]
  },
  {
   "cell_type": "markdown",
   "metadata": {},
   "source": [
    "## Sentence to Sequence\n",
    "To feed a sentence into the model for translation, you first need to preprocess it.  Implement the function `sentence_to_seq()` to preprocess new sentences.\n",
    "\n",
    "- Convert the sentence to lowercase\n",
    "- Convert words into ids using `vocab_to_int`\n",
    " - Convert words not in the vocabulary, to the `<UNK>` word id."
   ]
  },
  {
   "cell_type": "code",
   "execution_count": 24,
   "metadata": {},
   "outputs": [
    {
     "name": "stdout",
     "output_type": "stream",
     "text": [
      "Tests Passed\n"
     ]
    }
   ],
   "source": [
    "def sentence_to_seq(sentence, vocab_to_int):\n",
    "    \"\"\"\n",
    "    Convert a sentence to a sequence of ids\n",
    "    :param sentence: String\n",
    "    :param vocab_to_int: Dictionary to go from the words to an id\n",
    "    :return: List of word ids\n",
    "    \"\"\"\n",
    "    # TODO: Implement Function\n",
    "    sentence = sentence.lower()\n",
    "    return [vocab_to_int.get(word, vocab_to_int['<UNK>']) for word in sentence.split()]\n",
    "\n",
    "\n",
    "\n",
    "\"\"\"\n",
    "DON'T MODIFY ANYTHING IN THIS CELL THAT IS BELOW THIS LINE\n",
    "\"\"\"\n",
    "tests.test_sentence_to_seq(sentence_to_seq)"
   ]
  },
  {
   "cell_type": "markdown",
   "metadata": {},
   "source": [
    "## Translate\n",
    "This will translate `translate_sentence` from English to French."
   ]
  },
  {
   "cell_type": "code",
   "execution_count": 25,
   "metadata": {},
   "outputs": [
    {
     "name": "stdout",
     "output_type": "stream",
     "text": [
      "INFO:tensorflow:Restoring parameters from checkpoints/dev\n",
      "Input\n",
      "  Word Ids:      [82, 28, 46, 137, 183, 225, 184]\n",
      "  English Words: ['he', 'saw', 'a', 'old', 'yellow', 'truck', '.']\n",
      "\n",
      "Prediction\n",
      "  Word Ids:      [105, 96, 353, 194, 73, 87, 174, 63, 1]\n",
      "  French Words: il a vu un vieux camion jaune . <EOS>\n"
     ]
    }
   ],
   "source": [
    "translate_sentence = 'he saw a old yellow truck .'\n",
    "\n",
    "\n",
    "\"\"\"\n",
    "DON'T MODIFY ANYTHING IN THIS CELL\n",
    "\"\"\"\n",
    "translate_sentence = sentence_to_seq(translate_sentence, source_vocab_to_int)\n",
    "\n",
    "loaded_graph = tf.Graph()\n",
    "with tf.Session(graph=loaded_graph) as sess:\n",
    "    # Load saved model\n",
    "    loader = tf.train.import_meta_graph(load_path + '.meta')\n",
    "    loader.restore(sess, load_path)\n",
    "\n",
    "    input_data = loaded_graph.get_tensor_by_name('input:0')\n",
    "    logits = loaded_graph.get_tensor_by_name('predictions:0')\n",
    "    target_sequence_length = loaded_graph.get_tensor_by_name('target_sequence_length:0')\n",
    "    source_sequence_length = loaded_graph.get_tensor_by_name('source_sequence_length:0')\n",
    "    keep_prob = loaded_graph.get_tensor_by_name('keep_prob:0')\n",
    "\n",
    "    translate_logits = sess.run(logits, {input_data: [translate_sentence]*batch_size,\n",
    "                                         target_sequence_length: [len(translate_sentence)*2]*batch_size,\n",
    "                                         source_sequence_length: [len(translate_sentence)]*batch_size,\n",
    "                                         keep_prob: 1.0})[0]\n",
    "\n",
    "print('Input')\n",
    "print('  Word Ids:      {}'.format([i for i in translate_sentence]))\n",
    "print('  English Words: {}'.format([source_int_to_vocab[i] for i in translate_sentence]))\n",
    "\n",
    "print('\\nPrediction')\n",
    "print('  Word Ids:      {}'.format([i for i in translate_logits]))\n",
    "print('  French Words: {}'.format(\" \".join([target_int_to_vocab[i] for i in translate_logits])))\n"
   ]
  },
  {
   "cell_type": "markdown",
   "metadata": {},
   "source": [
    "## Imperfect Translation\n",
    "You might notice that some sentences translate better than others.  Since the dataset you're using only has a vocabulary of 227 English words of the thousands that you use, you're only going to see good results using these words.  For this project, you don't need a perfect translation. However, if you want to create a better translation model, you'll need better data.\n",
    "\n",
    "You can train on the [WMT10 French-English corpus](http://www.statmt.org/wmt10/training-giga-fren.tar).  This dataset has more vocabulary and richer in topics discussed.  However, this will take you days to train, so make sure you've a GPU and the neural network is performing well on dataset we provided.  Just make sure you play with the WMT10 corpus after you've submitted this project.\n",
    "## Submitting This Project\n",
    "When submitting this project, make sure to run all the cells before saving the notebook. Save the notebook file as \"dlnd_language_translation.ipynb\" and save it as a HTML file under \"File\" -> \"Download as\". Include the \"helper.py\" and \"problem_unittests.py\" files in your submission."
   ]
  }
 ],
 "metadata": {
  "anaconda-cloud": {},
  "kernelspec": {
   "display_name": "Python 3",
   "language": "python",
   "name": "python3"
  },
  "language_info": {
   "codemirror_mode": {
    "name": "ipython",
    "version": 3
   },
   "file_extension": ".py",
   "mimetype": "text/x-python",
   "name": "python",
   "nbconvert_exporter": "python",
   "pygments_lexer": "ipython3",
   "version": "3.5.3"
  }
 },
 "nbformat": 4,
 "nbformat_minor": 1
}
